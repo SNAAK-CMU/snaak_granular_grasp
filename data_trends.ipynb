{
 "cells": [
  {
   "cell_type": "code",
   "execution_count": 44,
   "metadata": {},
   "outputs": [
    {
     "name": "stdout",
     "output_type": "stream",
     "text": [
      "Base directory: /home/parth/snaak/snaak_data/data_parth/\n"
     ]
    }
   ],
   "source": [
    "import os\n",
    "import numpy as np\n",
    "import matplotlib.pyplot as plt\n",
    "import cv2\n",
    "from pathlib import Path\n",
    "import pandas as pd\n",
    "import glob\n",
    "\n",
    "# Set up the base directory\n",
    "base_dir = \"/home/parth/snaak/snaak_data/data_parth/\"\n",
    "print(f\"Base directory: {base_dir}\")\n"
   ]
  },
  {
   "cell_type": "code",
   "execution_count": 45,
   "metadata": {},
   "outputs": [],
   "source": [
    "# Write a function to iterate through all directories in base dir and find all .npz files\n",
    "# Add them to a dictionary with the key as a string of the directory path and the value as a list of .npz files\n",
    "def load_npz_files_as_dict(directory):\n",
    "    \"\"\"\n",
    "    Recursively find all .npz files in the given directory and subdirectories,\n",
    "    and load them into a dictionary where the key is the full file path and the value is the loaded npz file.\n",
    "\n",
    "    Args:\n",
    "        directory (str): Base directory to search\n",
    "\n",
    "    Returns:\n",
    "        dict: Dictionary mapping file paths to loaded npz file objects\n",
    "    \"\"\"\n",
    "    npz_dict = {}\n",
    "    for root, dirs, files in os.walk(directory):\n",
    "        for file in files:\n",
    "            if file.endswith('.npz'):\n",
    "                file_path = os.path.join(root, file)\n",
    "                try:\n",
    "                    npz_dict[file_path] = np.load(file_path)\n",
    "                except Exception as e:\n",
    "                    print(f\"Failed to load {file_path}: {e}\")\n",
    "    return npz_dict"
   ]
  },
  {
   "cell_type": "code",
   "execution_count": 46,
   "metadata": {},
   "outputs": [],
   "source": [
    "npz_dict = load_npz_files_as_dict(base_dir)"
   ]
  },
  {
   "cell_type": "code",
   "execution_count": null,
   "metadata": {},
   "outputs": [
    {
     "name": "stdout",
     "output_type": "stream",
     "text": [
      "Created DataFrame with 32 rows\n",
      "\n",
      "First few rows:\n",
      "     Session_name Episode_name  \\\n",
      "0  10_05_22_01_57            1   \n",
      "1  10_05_22_01_57            3   \n",
      "2  10_05_22_01_57            4   \n",
      "3  10_05_22_01_57            5   \n",
      "4  10_05_22_01_57            0   \n",
      "\n",
      "                                              Action  \\\n",
      "0  (0.0025312930002929866, -0.025278807934964932,...   \n",
      "1  (0.005146646959948469, 0.04766633611746096, -0...   \n",
      "2  (0.000115595594183171, -0.01451107360093766, -...   \n",
      "3  (0.00047211512421498937, -0.011993191046720274...   \n",
      "4  (0.004566200913739733, 0.05567013690897861, -0...   \n",
      "\n",
      "                                                Path  \n",
      "0  /home/parth/snaak/snaak_data/data_parth/10_05_...  \n",
      "1  /home/parth/snaak/snaak_data/data_parth/10_05_...  \n",
      "2  /home/parth/snaak/snaak_data/data_parth/10_05_...  \n",
      "3  /home/parth/snaak/snaak_data/data_parth/10_05_...  \n",
      "4  /home/parth/snaak/snaak_data/data_parth/10_05_...  \n"
     ]
    }
   ],
   "source": [
    "import pandas as pd\n",
    "\n",
    "def create_dataframe_from_npz_dict(npz_dict):\n",
    "    \"\"\"\n",
    "    Parse the npz dictionary and create a DataFrame with session info and action data.\n",
    "\n",
    "    Args:\n",
    "        npz_dict (dict): Dictionary mapping file paths to loaded npz file objects\n",
    "\n",
    "    Returns:\n",
    "        pd.DataFrame: DataFrame with columns: Session_name, Episode_name, Action, Path\n",
    "    \"\"\"\n",
    "    data = []\n",
    "\n",
    "    for file_path, npz_file in npz_dict.items():\n",
    "        # Extract session name (subdirectory name)\n",
    "        session_name = os.path.basename(os.path.dirname(file_path))\n",
    "\n",
    "        # Extract episode name (filename without extension)\n",
    "        episode_name = os.path.splitext(os.path.basename(file_path))[0]\n",
    "\n",
    "        # Extract action (a1 data as tuple)\n",
    "        try:\n",
    "            a1_data = npz_file['a1']\n",
    "            # Convert to tuple of 3 elements (x, y, z)\n",
    "            action = tuple(a1_data[:3]) if len(a1_data) >= 3 else tuple(a1_data)\n",
    "        except KeyError:\n",
    "            # If 'a1' key doesn't exist, use None\n",
    "            action = None\n",
    "\n",
    "        # Add row to data list\n",
    "        data.append({\n",
    "            'Session_name': session_name,\n",
    "            'Episode_name': episode_name,\n",
    "            'Action': action,\n",
    "            'Path': file_path\n",
    "        })\n",
    "\n",
    "    return pd.DataFrame(data)\n",
    "\n",
    "# Create the DataFrame\n",
    "df = create_dataframe_from_npz_dict(npz_dict)\n",
    "print(f\"Created DataFrame with {len(df)} rows\")\n",
    "print(\"\\nFirst few rows:\")\n",
    "print(df.head())\n"
   ]
  },
  {
   "cell_type": "code",
   "execution_count": 48,
   "metadata": {},
   "outputs": [
    {
     "data": {
      "image/png": "[encoded data removed]",
      "text/plain": [
       "<Figure size 1000x800 with 1 Axes>"
      ]
     },
     "metadata": {},
     "output_type": "display_data"
    },
    {
     "name": "stdout",
     "output_type": "stream",
     "text": [
      "Plotted 32 data points\n",
      "X range: -0.0083 to 0.0095\n",
      "Y range: -0.0584 to 0.0565\n"
     ]
    }
   ],
   "source": [
    "def plot_actions_scatter(df):\n",
    "    \"\"\"\n",
    "    Create a scatter plot of x and y values from the Action column of the DataFrame.\n",
    "    \n",
    "    Args:\n",
    "        df (pd.DataFrame): DataFrame with Action column containing (x, y, z) tuples\n",
    "    \"\"\"\n",
    "    # Extract x and y coordinates from the Action column\n",
    "    x_coords = []\n",
    "    y_coords = []\n",
    "    \n",
    "    for action in df['Action']:\n",
    "        if action is not None and len(action) >= 2:\n",
    "            x_coords.append(action[0])  # x coordinate\n",
    "            y_coords.append(action[1])  # y coordinate\n",
    "    \n",
    "    if not x_coords:\n",
    "        print(\"No valid action data found to plot\")\n",
    "        return\n",
    "    \n",
    "    # Create the scatter plot\n",
    "    plt.figure(figsize=(10, 8))\n",
    "    plt.scatter(x_coords, y_coords, alpha=0.6, s=20, c='blue', edgecolors='black', linewidth=0.5)\n",
    "    \n",
    "    # Set axis labels and title\n",
    "    plt.xlabel('X Coordinate')\n",
    "    plt.ylabel('Y Coordinate')\n",
    "    plt.title(f'Action Scatter Plot\\nTotal: {len(x_coords)} data points')\n",
    "    plt.grid(True, alpha=0.3)\n",
    "    \n",
    "    # Set specific axis ranges\n",
    "    plt.xlim(-0.07, 0.07)\n",
    "    plt.ylim(-0.12, 0.12)\n",
    "    \n",
    "    # Set aspect ratio to maintain rectangular shape (not square)\n",
    "    # This ensures the plot represents the actual coordinate proportions\n",
    "    plt.gca().set_aspect('equal', adjustable='box')\n",
    "    \n",
    "    plt.tight_layout()\n",
    "    plt.show()\n",
    "    \n",
    "    print(f\"Plotted {len(x_coords)} data points\")\n",
    "    print(f\"X range: {min(x_coords):.4f} to {max(x_coords):.4f}\")\n",
    "    print(f\"Y range: {min(y_coords):.4f} to {max(y_coords):.4f}\")\n",
    "\n",
    "# Create the scatter plot\n",
    "plot_actions_scatter(df)\n"
   ]
  },
  {
   "cell_type": "code",
   "execution_count": null,
   "metadata": {},
   "outputs": [],
   "source": []
  }
 ],
 "metadata": {
  "kernelspec": {
   "display_name": "vision_venv",
   "language": "python",
   "name": "python3"
  },
  "language_info": {
   "codemirror_mode": {
    "name": "ipython",
    "version": 3
   },
   "file_extension": ".py",
   "mimetype": "text/x-python",
   "name": "python",
   "nbconvert_exporter": "python",
   "pygments_lexer": "ipython3",
   "version": "3.12.8"
  }
 },
 "nbformat": 4,
 "nbformat_minor": 2
}
